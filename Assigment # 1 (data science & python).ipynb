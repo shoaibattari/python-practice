{
 "cells": [
  {
   "cell_type": "code",
   "execution_count": 66,
   "id": "140c5bd4",
   "metadata": {},
   "outputs": [
    {
     "name": "stdout",
     "output_type": "stream",
     "text": [
      "Twinkle, twinkle, little star,\n",
      "       How I wonder what you are!\n",
      "           Up above the world so high,\n",
      "           Like a diamond in the sky.\n",
      "Twinkle, twinkle, little star,\n",
      "        How I wonder what you are\n"
     ]
    }
   ],
   "source": [
    "# 1. Write a Python program to print the following string in a specific format (see the output).\n",
    "\n",
    "poem = '''Twinkle, twinkle, little star,\n",
    "       How I wonder what you are!\n",
    "           Up above the world so high,\n",
    "           Like a diamond in the sky.\n",
    "Twinkle, twinkle, little star,\n",
    "        How I wonder what you are'''\n",
    "\n",
    "print(poem)"
   ]
  },
  {
   "cell_type": "code",
   "execution_count": 67,
   "id": "e649a69c",
   "metadata": {},
   "outputs": [
    {
     "name": "stdout",
     "output_type": "stream",
     "text": [
      "3.8.8\n"
     ]
    }
   ],
   "source": [
    "# 2. Write a Python program to get the Python version you are using\n",
    "\n",
    "from platform import python_version\n",
    "print (python_version())"
   ]
  },
  {
   "cell_type": "code",
   "execution_count": 68,
   "id": "92b12271",
   "metadata": {},
   "outputs": [
    {
     "name": "stdout",
     "output_type": "stream",
     "text": [
      "2021-10-24 00:45:58.934818\n"
     ]
    }
   ],
   "source": [
    "# 3. Write a Python program to display the current date and time.\n",
    "import datetime\n",
    "date =datetime.datetime.now()\n",
    "print(date)\n"
   ]
  },
  {
   "cell_type": "code",
   "execution_count": 69,
   "id": "ff20368c",
   "metadata": {},
   "outputs": [
    {
     "name": "stdout",
     "output_type": "stream",
     "text": [
      "Enter the radius of a circle:15\n",
      "Area of a circle = 706.50\n"
     ]
    }
   ],
   "source": [
    "# 4. Write a Python program which accepts the radius of a circle from the user and compute the area.\n",
    "PI = 3.14\n",
    "user = float(input(\"Enter the radius of a circle:\"))\n",
    "area = PI * user * user\n",
    "print(\"Area of a circle = %.2f\" %area)"
   ]
  },
  {
   "cell_type": "code",
   "execution_count": 2,
   "id": "bdb40439",
   "metadata": {},
   "outputs": [
    {
     "name": "stdout",
     "output_type": "stream",
     "text": [
      "Enter last Name: memon\n",
      "Enter First Name: shoaib\n",
      "shoaib memon\n"
     ]
    }
   ],
   "source": [
    "# 5. Write a Python program which accepts the user's first and last name and print them in \n",
    "# reverse order with a space between them.\n",
    "lastname = input(\"Enter last Name: \")\n",
    "firstname = input(\"Enter First Name: \")\n",
    "fullname = (firstname +\" \"+ lastname)\n",
    "print(fullname)"
   ]
  },
  {
   "cell_type": "code",
   "execution_count": null,
   "id": "6ca99f76",
   "metadata": {},
   "outputs": [],
   "source": [
    "# 6. Write a python program which takes two inputs from user and print them addition\n",
    "val1 = int(input(\"Enter first value \"))\n",
    "val2 = int(input(\"Enter second value \"))\n",
    "add = str(val1+val2)\n",
    "print  (\"your answer is \" + add)"
   ]
  }
 ],
 "metadata": {
  "kernelspec": {
   "display_name": "Python 3",
   "language": "python",
   "name": "python3"
  },
  "language_info": {
   "codemirror_mode": {
    "name": "ipython",
    "version": 3
   },
   "file_extension": ".py",
   "mimetype": "text/x-python",
   "name": "python",
   "nbconvert_exporter": "python",
   "pygments_lexer": "ipython3",
   "version": "3.8.8"
  }
 },
 "nbformat": 4,
 "nbformat_minor": 5
}
