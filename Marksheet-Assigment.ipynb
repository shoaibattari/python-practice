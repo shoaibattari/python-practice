{
 "cells": [
  {
   "cell_type": "code",
   "execution_count": 1,
   "id": "f596347b",
   "metadata": {},
   "outputs": [
    {
     "name": "stdout",
     "output_type": "stream",
     "text": [
      "245\n",
      "300\n",
      "81.66666666666667\n",
      "GRADE A+\n"
     ]
    }
   ],
   "source": [
    "english = 95;\n",
    "islamiat = 85;\n",
    "math = 65;\n",
    "obtainMarks = (english + islamiat + math);\n",
    "totalMarks = 300;\n",
    "percentage =  obtainMarks/totalMarks*100;\n",
    "print (obtainMarks);\n",
    "print (totalMarks);\n",
    "print (percentage);\n",
    "if percentage <100 and percentage >=80:\n",
    "    print(\"GRADE A+\");\n",
    "elif percentage <80 and percentage >=70:\n",
    "    print(\"GRADE A\");\n",
    "elif percentage <70 and percentage >=60:\n",
    "    print(\"GRADE B\");    \n",
    "elif percentage <60 and percentage >=50:\n",
    "    print(\"GRADE C\");\n",
    "elif percentage <50 and percentage >=40:\n",
    "    print(\"GRADE D\");\n",
    "elif percentage <40 and percentage >=33:\n",
    "    print(\"GRADE E\");\n",
    "elif percentage <33 and percentage >=0:\n",
    "    print(\"YOU ARE FAIL\");\n",
    "else:\n",
    "    print(\"YOU DID NOT WRITE PERCENTAGE\")"
   ]
  },
  {
   "cell_type": "code",
   "execution_count": null,
   "id": "b5daf81a",
   "metadata": {},
   "outputs": [],
   "source": []
  },
  {
   "cell_type": "code",
   "execution_count": null,
   "id": "49bdfe00",
   "metadata": {},
   "outputs": [],
   "source": []
  }
 ],
 "metadata": {
  "kernelspec": {
   "display_name": "Python 3",
   "language": "python",
   "name": "python3"
  },
  "language_info": {
   "codemirror_mode": {
    "name": "ipython",
    "version": 3
   },
   "file_extension": ".py",
   "mimetype": "text/x-python",
   "name": "python",
   "nbconvert_exporter": "python",
   "pygments_lexer": "ipython3",
   "version": "3.8.8"
  }
 },
 "nbformat": 4,
 "nbformat_minor": 5
}
