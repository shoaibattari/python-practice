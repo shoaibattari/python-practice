{
 "cells": [
  {
   "cell_type": "code",
   "execution_count": 66,
   "id": "140c5bd4",
   "metadata": {},
   "outputs": [
    {
     "name": "stdout",
     "output_type": "stream",
     "text": [
      "Twinkle, twinkle, little star,\n",
      "       How I wonder what you are!\n",
      "           Up above the world so high,\n",
      "           Like a diamond in the sky.\n",
      "Twinkle, twinkle, little star,\n",
      "        How I wonder what you are\n"
     ]
    }
   ],
   "source": [
    "# 1. Write a Python program to print the following string in a specific format (see the output).\n",
    "\n",
    "poem = '''Twinkle, twinkle, little star,\n",
    "       How I wonder what you are!\n",
    "           Up above the world so high,\n",
    "           Like a diamond in the sky.\n",
    "Twinkle, twinkle, little star,\n",
    "        How I wonder what you are'''\n",
    "\n",
    "print(poem)"
   ]
  },
  {
   "cell_type": "code",
   "execution_count": 67,
   "id": "e649a69c",
   "metadata": {},
   "outputs": [
    {
     "name": "stdout",
     "output_type": "stream",
     "text": [
      "3.8.8\n"
     ]
    }
   ],
   "source": [
    "# 2. Write a Python program to get the Python version you are using\n",
    "\n",
    "from platform import python_version\n",
    "print (python_version())"
   ]
  },
  {
   "cell_type": "code",
   "execution_count": 68,
   "id": "92b12271",
   "metadata": {},
   "outputs": [
    {
     "name": "stdout",
     "output_type": "stream",
     "text": [
      "2021-10-24 00:45:58.934818\n"
     ]
    }
   ],
   "source": [
    "# 3. Write a Python program to display the current date and time.\n",
    "import datetime\n",
    "date =datetime.datetime.now()\n",
    "print(date)\n"
   ]
  },
  {
   "cell_type": "code",
   "execution_count": 69,
   "id": "ff20368c",
   "metadata": {},
   "outputs": [
    {
     "name": "stdout",
     "output_type": "stream",
     "text": [
      "Enter the radius of a circle:15\n",
      "Area of a circle = 706.50\n"
     ]
    }
   ],
   "source": [
    "# 4. Write a Python program which accepts the radius of a circle from the user and compute the area.\n",
    "PI = 3.14\n",
    "user = float(input(\"Enter the radius of a circle:\"))\n",
    "area = PI * user * user\n",
    "print(\"Area of a circle = %.2f\" %area)"
   ]
  },
  {
   "cell_type": "code",
   "execution_count": 2,
   "id": "bdb40439",
   "metadata": {},
   "outputs": [
    {
     "name": "stdout",
     "output_type": "stream",
     "text": [
      "Enter last Name: memon\n",
      "Enter First Name: shoaib\n",
      "shoaib memon\n"
     ]
    }
   ],
   "source": [
    "# 5. Write a Python program which accepts the user's first and last name and print them in \n",
    "# reverse order with a space between them.\n",
    "lastname = input(\"Enter last Name: \")\n",
    "firstname = input(\"Enter First Name: \")\n",
    "fullname = (firstname +\" \"+ lastname)\n",
    "print(fullname)"
   ]
  },
  {
   "cell_type": "code",
   "execution_count": null,
   "id": "6ca99f76",
   "metadata": {},
   "outputs": [],
   "source": [
    "# 6. Write a python program which takes two inputs from user and print them addition\n",
    "val1 = int(input(\"Enter first value \"))\n",
    "val2 = int(input(\"Enter second value \"))\n",
    "add = str(val1+val2)\n",
    "print  (\"your answer is \" + add)"
   ]
  },
  {
   "cell_type": "code",
   "execution_count": 59,
   "id": "4a4edadc",
   "metadata": {},
   "outputs": [
    {
     "name": "stdout",
     "output_type": "stream",
     "text": [
      "english marks 98\n",
      "islamiat marks 98\n",
      "math marks 98\n",
      "urdu marks 98\n",
      "computer marks 98\n",
      "obtain marks:  490\n",
      "total marks:  500\n",
      "percentage:  98.0\n",
      "YOUR GRADE IS A+\n"
     ]
    }
   ],
   "source": [
    "# 7. Write a program which takes 5 inputs from user for different subject’s marks, total it\n",
    "# and generate mark sheet using grades ?\n",
    "english =  int(input(\"english marks \"));\n",
    "islamiat = int(input(\"islamiat marks \"));\n",
    "math =     int(input(\"math marks \"));\n",
    "urdu =     int(input(\"urdu marks \"));\n",
    "computer = int(input(\"computer marks \"));\n",
    "obtainMarks = (english + islamiat + math + urdu + computer);\n",
    "totalMarks = 500;\n",
    "print (\"obtain marks: \",obtainMarks);\n",
    "print (\"total marks: \",totalMarks);\n",
    "percentage =  obtainMarks/totalMarks*100;\n",
    "print (\"percentage: \",percentage);\n",
    "if percentage <=100 and percentage >=80:\n",
    "    print(\"YOUR GRADE IS A+\");\n",
    "elif percentage <80 and percentage >=70:\n",
    "    print(\"YOUR GRADE IS A\");\n",
    "elif percentage <70 and percentage >=60:\n",
    "    print(\"YOUR GRADE IS B\");    \n",
    "elif percentage <60 and percentage >=50:\n",
    "    print(\"YOUR GRADE IS C\");\n",
    "elif percentage <50 and percentage >=40:\n",
    "    print(\"YOUR GRADE IS D\");\n",
    "elif percentage <40 and percentage >=33:\n",
    "    print(\"YOUR GRADE IS E\");\n",
    "elif percentage <33 and percentage >=0:\n",
    "    print(\"YOU ARE FAIL\");\n",
    "else:\n",
    "    print(\"YOU DID NOT WRITE PERCENTAGE\");"
   ]
  },
  {
   "cell_type": "code",
   "execution_count": 8,
   "id": "a5c7e017",
   "metadata": {},
   "outputs": [
    {
     "name": "stdout",
     "output_type": "stream",
     "text": [
      "enter any number: 56\n",
      "56 is even number\n"
     ]
    }
   ],
   "source": [
    "# 8. Write a program which take input from user and identify that the given number is even\n",
    "# or odd?\n",
    "num =  int(input(\"enter any number: \"))\n",
    "formula = num%2\n",
    "if formula == 0:\n",
    "    print(num, \"is even number\")\n",
    "else:\n",
    "    print(num, \"is odd number\")"
   ]
  },
  {
   "cell_type": "code",
   "execution_count": 6,
   "id": "2d69dacc",
   "metadata": {},
   "outputs": [
    {
     "name": "stdout",
     "output_type": "stream",
     "text": [
      "Number of items in the list =  11\n"
     ]
    }
   ],
   "source": [
    "# 9. Write a program which print the length of the list?\n",
    "\n",
    "a = [1, 1, 2, 3, 5, 8, 13, 21, 34, 55, 89]\n",
    "print (\"Number of items in the list = \", len(a))"
   ]
  },
  {
   "cell_type": "code",
   "execution_count": 13,
   "id": "4afd556e",
   "metadata": {},
   "outputs": [
    {
     "name": "stdout",
     "output_type": "stream",
     "text": [
      "2311\n"
     ]
    }
   ],
   "source": [
    "# 10.Write a Python program to sum all the numeric items in a list?\n",
    "b = [1, 10, 20, 30, 50, 80, 130, 210, 340, 550, 890]\n",
    "addition = sum(b)\n",
    "print(addition)"
   ]
  },
  {
   "cell_type": "code",
   "execution_count": 46,
   "id": "729586ec",
   "metadata": {},
   "outputs": [
    {
     "name": "stdout",
     "output_type": "stream",
     "text": [
      "89\n"
     ]
    }
   ],
   "source": [
    "# 11.Write a Python program to get the largest number from a numeric list.\n",
    "a = [0, 1, 2, 3, 5, 8, 13, 21, 34, 55, 89]\n",
    "\n",
    "print(max(a))"
   ]
  },
  {
   "cell_type": "code",
   "execution_count": 17,
   "id": "4a2d767f",
   "metadata": {},
   "outputs": [
    {
     "name": "stdout",
     "output_type": "stream",
     "text": [
      "0\n",
      "1\n",
      "2\n",
      "3\n"
     ]
    }
   ],
   "source": [
    "# 12. Take a list, say for example this one:\n",
    "# a = [1, 1, 2, 3, 5, 8, 13, 21, 34, 55, 89]\n",
    "#  Write a program that prints out all the elements of the list that are less than 5. \n",
    "a = [0, 1, 2, 3, 5, 8, 13, 21, 34, 55, 89]\n",
    "for element in a:\n",
    "    if(int(element) <5):\n",
    "        print(str(element))"
   ]
  },
  {
   "cell_type": "code",
   "execution_count": null,
   "id": "fff54eea",
   "metadata": {},
   "outputs": [],
   "source": []
  }
 ],
 "metadata": {
  "kernelspec": {
   "display_name": "Python 3",
   "language": "python",
   "name": "python3"
  },
  "language_info": {
   "codemirror_mode": {
    "name": "ipython",
    "version": 3
   },
   "file_extension": ".py",
   "mimetype": "text/x-python",
   "name": "python",
   "nbconvert_exporter": "python",
   "pygments_lexer": "ipython3",
   "version": "3.8.8"
  }
 },
 "nbformat": 4,
 "nbformat_minor": 5
}
