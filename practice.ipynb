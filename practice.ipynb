{
 "cells": [
  {
   "cell_type": "code",
   "execution_count": 1,
   "id": "abe8cfd8",
   "metadata": {},
   "outputs": [
    {
     "name": "stdout",
     "output_type": "stream",
     "text": [
      "muhammad shoaib\n"
     ]
    }
   ],
   "source": [
    "name = \"muhammad shoaib\"\n",
    "print (name)"
   ]
  },
  {
   "cell_type": "code",
   "execution_count": 2,
   "id": "0240f8b2",
   "metadata": {},
   "outputs": [
    {
     "name": "stdout",
     "output_type": "stream",
     "text": [
      "200.75\n"
     ]
    }
   ],
   "source": [
    "num = 0.75\n",
    "total = num + 200\n",
    "print (total)"
   ]
  },
  {
   "cell_type": "code",
   "execution_count": 5,
   "id": "f0a90b45",
   "metadata": {},
   "outputs": [
    {
     "name": "stdout",
     "output_type": "stream",
     "text": [
      "1\n"
     ]
    }
   ],
   "source": [
    "a = 10 % 3\n",
    "print(a)"
   ]
  },
  {
   "cell_type": "code",
   "execution_count": 6,
   "id": "bfd2bc4b",
   "metadata": {},
   "outputs": [
    {
     "name": "stdout",
     "output_type": "stream",
     "text": [
      "15\n"
     ]
    }
   ],
   "source": [
    "a= 5\n",
    "b= 10\n",
    "print (a+b)"
   ]
  },
  {
   "cell_type": "code",
   "execution_count": 7,
   "id": "ece25c74",
   "metadata": {},
   "outputs": [
    {
     "name": "stdout",
     "output_type": "stream",
     "text": [
      "12\n"
     ]
    }
   ],
   "source": [
    "a = 10\n",
    "a += 2\n",
    "print(a)"
   ]
  },
  {
   "cell_type": "code",
   "execution_count": 9,
   "id": "67e3948c",
   "metadata": {},
   "outputs": [
    {
     "name": "stdout",
     "output_type": "stream",
     "text": [
      "7.0\n"
     ]
    }
   ],
   "source": [
    "cost = 5 + 10 / 5\n",
    "print(cost)"
   ]
  },
  {
   "cell_type": "code",
   "execution_count": 25,
   "id": "ed3716a2",
   "metadata": {},
   "outputs": [
    {
     "name": "stdout",
     "output_type": "stream",
     "text": [
      "3\n"
     ]
    }
   ],
   "source": [
    "cost = (5 + 10) // 5\n",
    "print(cost)"
   ]
  },
  {
   "cell_type": "code",
   "execution_count": 29,
   "id": "a214d98a",
   "metadata": {},
   "outputs": [
    {
     "name": "stdout",
     "output_type": "stream",
     "text": [
      "hello muhammad shoiab\n"
     ]
    }
   ],
   "source": [
    "a = \"hello\"\n",
    "b = \"muhammad\"\n",
    "c = \"shoiab\"\n",
    "print (a+\" \"+b+ ' '+c)\n"
   ]
  },
  {
   "cell_type": "code",
   "execution_count": 34,
   "id": "37243c0a",
   "metadata": {},
   "outputs": [
    {
     "name": "stdout",
     "output_type": "stream",
     "text": [
      "my roll number is 16525\n"
     ]
    }
   ],
   "source": [
    "print (\"my roll number is 16525\")"
   ]
  },
  {
   "cell_type": "code",
   "execution_count": 43,
   "id": "8bf6414a",
   "metadata": {},
   "outputs": [
    {
     "name": "stdout",
     "output_type": "stream",
     "text": [
      "9\n"
     ]
    }
   ],
   "source": [
    "a = 3 ** 2\n",
    "print(a)"
   ]
  },
  {
   "cell_type": "code",
   "execution_count": 45,
   "id": "9194541a",
   "metadata": {},
   "outputs": [
    {
     "name": "stdout",
     "output_type": "stream",
     "text": [
      "salam salam salam salam \n"
     ]
    }
   ],
   "source": [
    "print(\"salam \"*4)"
   ]
  },
  {
   "cell_type": "code",
   "execution_count": 49,
   "id": "031d9710",
   "metadata": {},
   "outputs": [
    {
     "name": "stdout",
     "output_type": "stream",
     "text": [
      "enter your value 25\n",
      "40\n"
     ]
    }
   ],
   "source": [
    "x = int(input(\"enter your value \"))\n",
    "y = 15\n",
    "z = x + y\n",
    "print(z)"
   ]
  },
  {
   "cell_type": "code",
   "execution_count": 58,
   "id": "e81ae070",
   "metadata": {},
   "outputs": [
    {
     "name": "stdout",
     "output_type": "stream",
     "text": [
      "what is your age25\n",
      "you are allowed to ride\n"
     ]
    }
   ],
   "source": [
    "age = int(input(\"what is your age\"))\n",
    "if age >=18:\n",
    " print(\"you are allowed to ride\")\n",
    "else:\n",
    " print(\"you are not allowed\")"
   ]
  },
  {
   "cell_type": "code",
   "execution_count": 66,
   "id": "cfe9297a",
   "metadata": {},
   "outputs": [
    {
     "name": "stdout",
     "output_type": "stream",
     "text": [
      "your answer is wrong\n"
     ]
    }
   ],
   "source": [
    "a = 10\n",
    "b = 10\n",
    "c = 10\n",
    "d = 5\n",
    "if a + b == c + d:\n",
    "    print (\"your answer is correct\")\n",
    "else :\n",
    "    print(\"your answer is wrong\")"
   ]
  },
  {
   "cell_type": "code",
   "execution_count": 68,
   "id": "58d48ee4",
   "metadata": {},
   "outputs": [
    {
     "name": "stdout",
     "output_type": "stream",
     "text": [
      "('shoaib', 'abdul', 'sattar')\n"
     ]
    }
   ],
   "source": [
    "tp = ('shoaib', 'abdul', 'sattar')\n",
    "print(tp)"
   ]
  },
  {
   "cell_type": "code",
   "execution_count": 73,
   "id": "ddef1a3f",
   "metadata": {},
   "outputs": [
    {
     "data": {
      "text/plain": [
       "'shoaib'"
      ]
     },
     "execution_count": 73,
     "metadata": {},
     "output_type": "execute_result"
    }
   ],
   "source": [
    "tp[0]"
   ]
  }
 ],
 "metadata": {
  "kernelspec": {
   "display_name": "Python 3",
   "language": "python",
   "name": "python3"
  },
  "language_info": {
   "codemirror_mode": {
    "name": "ipython",
    "version": 3
   },
   "file_extension": ".py",
   "mimetype": "text/x-python",
   "name": "python",
   "nbconvert_exporter": "python",
   "pygments_lexer": "ipython3",
   "version": "3.8.8"
  }
 },
 "nbformat": 4,
 "nbformat_minor": 5
}
